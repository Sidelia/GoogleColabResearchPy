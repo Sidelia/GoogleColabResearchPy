{
 "cells": [
  {
   "cell_type": "markdown",
   "metadata": {},
   "source": [
    "## POO em Python 3 "
   ]
  },
  {
   "cell_type": "code",
   "execution_count": 1,
   "metadata": {},
   "outputs": [
    {
     "name": "stdout",
     "output_type": "stream",
     "text": [
      "6\n",
      "<class 'int'>\n"
     ]
    }
   ],
   "source": [
    "a = 6\n",
    "print(a)\n",
    "print(type(a))"
   ]
  },
  {
   "cell_type": "code",
   "execution_count": 2,
   "metadata": {},
   "outputs": [],
   "source": [
    "class Porta:\n",
    "    # variável de classe\n",
    "    cor = 'azul' \n",
    "    \n",
    "    # construtor\n",
    "    def __init__(self, numero, status):\n",
    "        # atributos\n",
    "        self.numero = numero    \n",
    "        self.status = status\n",
    "    \n",
    "    # métodos\n",
    "    def open(self): \n",
    "        self.status = 'aberta'\n",
    "        \n",
    "    def close(self):\n",
    "        self.status = 'fechada'"
   ]
  },
  {
   "cell_type": "code",
   "execution_count": 3,
   "metadata": {},
   "outputs": [
    {
     "name": "stdout",
     "output_type": "stream",
     "text": [
      "<class '__main__.Porta'>\n"
     ]
    }
   ],
   "source": [
    "porta1 = Porta(1, 'fechada')\n",
    "print(type(porta1))"
   ]
  },
  {
   "cell_type": "code",
   "execution_count": 4,
   "metadata": {},
   "outputs": [
    {
     "name": "stdout",
     "output_type": "stream",
     "text": [
      "1\n",
      "fechada\n"
     ]
    }
   ],
   "source": [
    "print(porta1.numero)\n",
    "print(porta1.status)"
   ]
  },
  {
   "cell_type": "code",
   "execution_count": 5,
   "metadata": {},
   "outputs": [],
   "source": [
    "porta1.open()"
   ]
  },
  {
   "cell_type": "code",
   "execution_count": 6,
   "metadata": {},
   "outputs": [
    {
     "name": "stdout",
     "output_type": "stream",
     "text": [
      "1\n",
      "aberta\n"
     ]
    }
   ],
   "source": [
    "print(porta1.numero)\n",
    "print(porta1.status)"
   ]
  },
  {
   "cell_type": "code",
   "execution_count": 7,
   "metadata": {},
   "outputs": [
    {
     "name": "stdout",
     "output_type": "stream",
     "text": [
      "azul\n",
      "azul\n"
     ]
    }
   ],
   "source": [
    "print(Porta.cor)\n",
    "print(porta1.cor)"
   ]
  },
  {
   "cell_type": "code",
   "execution_count": 8,
   "metadata": {},
   "outputs": [
    {
     "data": {
      "text/plain": [
       "mappingproxy({'__module__': '__main__',\n",
       "              'cor': 'azul',\n",
       "              '__init__': <function __main__.Porta.__init__(self, numero, status)>,\n",
       "              'open': <function __main__.Porta.open(self)>,\n",
       "              'close': <function __main__.Porta.close(self)>,\n",
       "              '__dict__': <attribute '__dict__' of 'Porta' objects>,\n",
       "              '__weakref__': <attribute '__weakref__' of 'Porta' objects>,\n",
       "              '__doc__': None})"
      ]
     },
     "execution_count": 8,
     "metadata": {},
     "output_type": "execute_result"
    }
   ],
   "source": [
    "# lista de atributos da classe\n",
    "Porta.__dict__"
   ]
  },
  {
   "cell_type": "code",
   "execution_count": 9,
   "metadata": {},
   "outputs": [
    {
     "data": {
      "text/plain": [
       "{'numero': 1, 'status': 'aberta'}"
      ]
     },
     "execution_count": 9,
     "metadata": {},
     "output_type": "execute_result"
    }
   ],
   "source": [
    "# lista de atributos da instância\n",
    "porta1.__dict__"
   ]
  },
  {
   "cell_type": "code",
   "execution_count": 10,
   "metadata": {},
   "outputs": [
    {
     "name": "stdout",
     "output_type": "stream",
     "text": [
      "<class 'function'>\n",
      "<class 'method'>\n"
     ]
    }
   ],
   "source": [
    "print(type(Porta.open))\n",
    "print(type(porta1.open))"
   ]
  },
  {
   "cell_type": "code",
   "execution_count": 11,
   "metadata": {},
   "outputs": [],
   "source": [
    "class Porta:\n",
    "    # variável de classe\n",
    "    cor = 'azul'\n",
    "    \n",
    "    # construtor\n",
    "    def __init__(self, numero, status):\n",
    "        # atributos\n",
    "        self.numero = numero    \n",
    "        self.status = status    \n",
    "    \n",
    "    # cls não é uma instância mas a própria classe\n",
    "    @classmethod\n",
    "    def knock(cls):\n",
    "        print(\"Knock!\")\n",
    "        \n",
    "    # métodos\n",
    "    def open(self): \n",
    "        self.status = 'aberta'\n",
    "        \n",
    "    def close(self):\n",
    "        self.status = 'fechada'"
   ]
  },
  {
   "cell_type": "code",
   "execution_count": 12,
   "metadata": {},
   "outputs": [
    {
     "name": "stdout",
     "output_type": "stream",
     "text": [
      "Knock!\n"
     ]
    }
   ],
   "source": [
    "porta1 = Porta(1, 'fechada')\n",
    "porta1.knock()"
   ]
  },
  {
   "cell_type": "code",
   "execution_count": 13,
   "metadata": {},
   "outputs": [
    {
     "name": "stdout",
     "output_type": "stream",
     "text": [
      "Knock!\n"
     ]
    }
   ],
   "source": [
    "Porta.knock()"
   ]
  },
  {
   "cell_type": "code",
   "execution_count": 14,
   "metadata": {},
   "outputs": [
    {
     "name": "stdout",
     "output_type": "stream",
     "text": [
      "<class 'method'>\n",
      "<class 'method'>\n"
     ]
    }
   ],
   "source": [
    "print(type(Porta.knock))\n",
    "print(type(porta1.knock))"
   ]
  },
  {
   "cell_type": "code",
   "execution_count": 15,
   "metadata": {},
   "outputs": [],
   "source": [
    "class Porta:\n",
    "    # variável de classe\n",
    "    cor = 'azul'\n",
    "    \n",
    "    # construtor\n",
    "    def __init__(self, numero, status):\n",
    "        # atributos\n",
    "        self.numero = numero    \n",
    "        self.status = status\n",
    "\n",
    "    \n",
    "    # cls não é uma instância mas a própria classe\n",
    "    @classmethod\n",
    "    def knock(cls):\n",
    "        print(\"Knock!\")\n",
    "        \n",
    "    @classmethod\n",
    "    def paint(cls, cor):\n",
    "        cls.cor = cor\n",
    "        \n",
    "    # métodos\n",
    "    def open(self): \n",
    "        self.status = 'aberta'\n",
    "        \n",
    "    def close(self):\n",
    "        self.status = 'fechada'"
   ]
  },
  {
   "cell_type": "code",
   "execution_count": 16,
   "metadata": {},
   "outputs": [
    {
     "data": {
      "text/plain": [
       "'azul'"
      ]
     },
     "execution_count": 16,
     "metadata": {},
     "output_type": "execute_result"
    }
   ],
   "source": [
    "porta1 = Porta(1, 'fechada')\n",
    "porta2 = Porta(2, 'fechada')\n",
    "Porta.cor"
   ]
  },
  {
   "cell_type": "code",
   "execution_count": 17,
   "metadata": {},
   "outputs": [
    {
     "name": "stdout",
     "output_type": "stream",
     "text": [
      "azul\n",
      "azul\n"
     ]
    }
   ],
   "source": [
    "print(porta1.cor)\n",
    "print(porta2.cor)"
   ]
  },
  {
   "cell_type": "code",
   "execution_count": 18,
   "metadata": {},
   "outputs": [],
   "source": [
    "Porta.paint('verde')"
   ]
  },
  {
   "cell_type": "code",
   "execution_count": 19,
   "metadata": {},
   "outputs": [
    {
     "data": {
      "text/plain": [
       "'verde'"
      ]
     },
     "execution_count": 19,
     "metadata": {},
     "output_type": "execute_result"
    }
   ],
   "source": [
    "Porta.cor"
   ]
  },
  {
   "cell_type": "code",
   "execution_count": 20,
   "metadata": {},
   "outputs": [
    {
     "name": "stdout",
     "output_type": "stream",
     "text": [
      "verde\n",
      "verde\n"
     ]
    }
   ],
   "source": [
    "print(porta1.cor)\n",
    "print(porta2.cor)"
   ]
  },
  {
   "cell_type": "code",
   "execution_count": 21,
   "metadata": {},
   "outputs": [],
   "source": [
    "class PortaSeguranca(Porta):\n",
    "    cor = 'cinza'\n",
    "    locked = True\n",
    "    \n",
    "    def open(self):\n",
    "        if not self.locked:\n",
    "            self.status = 'aberta'"
   ]
  },
  {
   "cell_type": "code",
   "execution_count": 22,
   "metadata": {},
   "outputs": [
    {
     "data": {
      "text/plain": [
       "mappingproxy({'__module__': '__main__',\n",
       "              'cor': 'cinza',\n",
       "              'locked': True,\n",
       "              'open': <function __main__.PortaSeguranca.open(self)>,\n",
       "              '__doc__': None})"
      ]
     },
     "execution_count": 22,
     "metadata": {},
     "output_type": "execute_result"
    }
   ],
   "source": [
    "PortaSeguranca.__dict__"
   ]
  },
  {
   "cell_type": "code",
   "execution_count": 23,
   "metadata": {},
   "outputs": [],
   "source": [
    "class PortaSeguranca(Porta):\n",
    "    cor = 'cinza'\n",
    "    locked = True\n",
    "    \n",
    "    def open(self):\n",
    "        if self.locked:\n",
    "            return\n",
    "        super().open()"
   ]
  },
  {
   "cell_type": "code",
   "execution_count": 24,
   "metadata": {},
   "outputs": [
    {
     "name": "stdout",
     "output_type": "stream",
     "text": [
      "fechada\n"
     ]
    }
   ],
   "source": [
    "porta_seg = PortaSeguranca(1, 'fechada')\n",
    "print(porta_seg.status)"
   ]
  },
  {
   "cell_type": "code",
   "execution_count": 25,
   "metadata": {},
   "outputs": [
    {
     "name": "stdout",
     "output_type": "stream",
     "text": [
      "fechada\n"
     ]
    }
   ],
   "source": [
    "porta_seg.open()\n",
    "print(porta_seg.status)"
   ]
  },
  {
   "cell_type": "code",
   "execution_count": 26,
   "metadata": {},
   "outputs": [
    {
     "name": "stdout",
     "output_type": "stream",
     "text": [
      "aberta\n"
     ]
    }
   ],
   "source": [
    "porta_seg.locked = False\n",
    "porta_seg.open()\n",
    "print(porta_seg.status)"
   ]
  }
 ],
 "metadata": {
  "kernelspec": {
   "display_name": "Python 3",
   "language": "python",
   "name": "python3"
  },
  "language_info": {
   "codemirror_mode": {
    "name": "ipython",
    "version": 3
   },
   "file_extension": ".py",
   "mimetype": "text/x-python",
   "name": "python",
   "nbconvert_exporter": "python",
   "pygments_lexer": "ipython3",
   "version": "3.6.6"
  }
 },
 "nbformat": 4,
 "nbformat_minor": 2
}
